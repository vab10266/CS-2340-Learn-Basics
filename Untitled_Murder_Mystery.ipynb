{
  "nbformat": 4,
  "nbformat_minor": 0,
  "metadata": {
    "colab": {
      "name": "Untitled Murder Mystery.ipynb",
      "provenance": [],
      "collapsed_sections": [],
      "authorship_tag": "ABX9TyNM/njuMO1BukU3llju9msu",
      "include_colab_link": true
    },
    "kernelspec": {
      "name": "python3",
      "display_name": "Python 3"
    },
    "language_info": {
      "name": "python"
    }
  },
  "cells": [
    {
      "cell_type": "markdown",
      "metadata": {
        "id": "view-in-github",
        "colab_type": "text"
      },
      "source": [
        "<a href=\"https://colab.research.google.com/github/vab10266/CS-2340-Learn-Basics/blob/master/Untitled_Murder_Mystery.ipynb\" target=\"_parent\"><img src=\"https://colab.research.google.com/assets/colab-badge.svg\" alt=\"Open In Colab\"/></a>"
      ]
    },
    {
      "cell_type": "code",
      "metadata": {
        "id": "k5hQf8Xgd41c"
      },
      "source": [
        "import random as rand\n",
        "\n",
        "class Grammar():\n",
        "  def __init__(self, rules):\n",
        "    self.rules = rules\n",
        "\n",
        "  def process(self, string):\n",
        "    working = string\n",
        "    last = ''\n",
        "    while '#' in working and not last == working:\n",
        "      last = working\n",
        "      working = self.step(working)\n",
        "    return working\n",
        "\n",
        "  def step(self, string):\n",
        "    working = string\n",
        "    last_rule = len(string)\n",
        "    for j in range(len(string)):\n",
        "      i = len(string) - j - 1\n",
        "      if working[i] == '#':\n",
        "        key = working[i:last_rule]\n",
        "        if key in self.rules:\n",
        "          working = working[:i] + rand.choice(self.rules[key]) + working[last_rule:]\n",
        "        last_rule = i\n",
        "    return working"
      ],
      "execution_count": null,
      "outputs": []
    },
    {
      "cell_type": "code",
      "metadata": {
        "id": "Xn7gvdSPufr-"
      },
      "source": [
        "def touch_up(string, phrase, insert):\n",
        "  working = string\n",
        "  for j in range(len(string)-len(phrase)):\n",
        "    i = len(string) - len(phrase) - j - 1\n",
        "    if working[i:i+len(phrase)] == phrase:\n",
        "      working = working[:i] + insert + working[i:]\n",
        "  return working"
      ],
      "execution_count": null,
      "outputs": []
    },
    {
      "cell_type": "code",
      "metadata": {
        "id": "BvhZWVOoenO4"
      },
      "source": [
        "rule_list = {\n",
        "    '#murder': ['#victim#murderer#suspects'], \n",
        "    '#victim': ['#name_v#loc_d'], \n",
        "    '#murderer': ['#name_m#loc_c#weapon_m#loc_c#loc_m#loc_c#motive_m#red_herrings'], \n",
        "    '#suspects': [\n",
        "                  '#suspect#suspect#suspect', \n",
        "                  '#suspect#suspect#innocent'\n",
        "                  ],\n",
        "    '#suspect': ['#name_s#clues#red_herrings'],\n",
        "    '#innocent': ['#name_s#red_herrings#red_herrings'],\n",
        "    '#clues': [\n",
        "               '#clue2#red_herring1',\n",
        "               '#clue1#red_herring2'\n",
        "               ],\n",
        "    '#red_herrings': ['#red_herring3'],\n",
        "    '#clue1': [\n",
        "               '#loc_c#weapon_m',\n",
        "               '#loc_c#loc_m',\n",
        "               '#loc_c#motive_m',\n",
        "               ],\n",
        "    '#clue2': [\n",
        "               '#loc_c#weapon_m#loc_c#motive_m',\n",
        "               '#loc_c#loc_m#loc_c#weapon_m',\n",
        "               '#loc_c#motive_m#loc_c#loc_m',\n",
        "               ],\n",
        "    '#red_herring1': [\n",
        "               '#loc_c#weapon_r',\n",
        "               '#loc_c#loc_r',\n",
        "               '#loc_c#motive_r',\n",
        "               ],\n",
        "    '#red_herring2': [\n",
        "               '#loc_c#weapon_r#loc_c#motive_r',\n",
        "               '#loc_c#loc_r#loc_c#weapon_r',\n",
        "               '#loc_c#motive_r#loc_c#loc_r',\n",
        "               ],\n",
        "    '#red_herring3': ['#loc_c#weapon_r#loc_c#loc_r#loc_c#motive_r'],          \n",
        "    }"
      ],
      "execution_count": null,
      "outputs": []
    },
    {
      "cell_type": "code",
      "metadata": {
        "id": "gOQpBiTewtwH"
      },
      "source": [
        "class MurderMystery():\n",
        "  def __init__(self):\n",
        "    self.g = Grammar(rule_list)\n",
        "    self.string = self.g.process('#murder')\n",
        "\n",
        "    self.people = [\"Abby\", \"Ben\", \"Chuck\", \"Daniel\", \"Elizabeth\"]\n",
        "    self.weapons = [\"a gun\", \"a knife\", \"a rope\", \"a pipe\", \"poison\"]\n",
        "    self.locations = [\"Kitchen\", \"Hall\", \"Billiards Room\", \"Ballroom\", \"Conservatory\", \"Study\", \"Lounge\", \"Library\", \"Dining Room\"]\n",
        "    self.motives = [' was dating $’s spouse', ' was being blackmailed by $', ' owed money to $', ' recently had a messy breakup with $', ' was recently insulted by $']\n",
        "    self.rem_people = [\"Abby\", \"Ben\", \"Chuck\", \"Daniel\", \"Elizabeth\"]\n",
        "\n",
        "    self.victim = ''\n",
        "    self.murderer = ''\n",
        "    self.weapon_m = ''\n",
        "    self.motive_m = ''\n",
        "    self.loc_d = ''\n",
        "    self.loc_m =''\n",
        "\n",
        "    post = self.post_process()\n",
        "    self.post = post.split('#name_')[2:]\n",
        "    for i in range(len(self.post)):\n",
        "      self.post[i] = self.post[i].split('#')\n",
        "    self.clues = self.post_to_clues(self.post)\n",
        "\n",
        "  def post_process(self):\n",
        "    string = self.string\n",
        "    working = string\n",
        "    #Names\n",
        "    phrase = '#name_'\n",
        "    for j in range(len(string)-len(phrase)):\n",
        "      i = len(string) - len(phrase) - j - 1\n",
        "      if working[i:i+len(phrase)] == phrase:\n",
        "        role = working[i+len(phrase)]\n",
        "        working = working[:i+len(phrase)+1] + '#'  + self.name(role) + working[i+len(phrase)+1:]\n",
        "    string = working\n",
        "    #Locations\n",
        "    #    clues\n",
        "    phrase = '#loc_c'\n",
        "    temp = self.locations\n",
        "    rand.shuffle(temp)\n",
        "    k = 0\n",
        "\n",
        "    for j in range(len(string)-len(phrase)):\n",
        "      i = len(string) - len(phrase) - j - 1\n",
        "      if working[i:i+len(phrase)] == phrase:\n",
        "        working = working[:i] + '#' + temp[k] + working[i+len(phrase):]\n",
        "        k += 1\n",
        "        if k >= len(temp):\n",
        "          rand.shuffle(temp)\n",
        "          k = 0\n",
        "\n",
        "    string = working\n",
        "\n",
        "    #    other\n",
        "    self.loc('d')\n",
        "    self.loc('m')\n",
        "    phrase = '#loc_'\n",
        "    \n",
        "    k = 0\n",
        "\n",
        "    for j in range(len(string)-len(phrase)):\n",
        "      i = len(string) - len(phrase) - j - 1\n",
        "      if working[i:i+len(phrase)] == phrase:\n",
        "        role = working[i+len(phrase)]\n",
        "        if role != 'c':\n",
        "          working = working[:i] + '#l' + role + self.loc(role) + working[i+len(phrase)+1:]\n",
        "        \n",
        "    string = working\n",
        "    #Weapons\n",
        "    phrase = '#weapon_'\n",
        "    for j in range(len(string)-len(phrase)):\n",
        "      i = len(string) - len(phrase) - j - 1\n",
        "      if working[i:i+len(phrase)] == phrase:\n",
        "        role = working[i+len(phrase)]\n",
        "        working = working[:i] + '#w' + role + self.weapon(role) + working[i+len(phrase)+1:]\n",
        "    string = working\n",
        "    #Motives\n",
        "    phrase = '#motive_'\n",
        "    for j in range(len(string)-len(phrase)):\n",
        "      i = len(string) - len(phrase) - j - 1\n",
        "      if working[i:i+len(phrase)] == phrase:\n",
        "        role = working[i+len(phrase)]\n",
        "        working = working[:i] + '#m' + role + self.motive(role) + working[i+len(phrase)+1:]\n",
        "    return working\n",
        "\n",
        "  def name(self, role):\n",
        "    person = rand.choice(self.rem_people)\n",
        "    if role == 'v':\n",
        "      if self.victim == '':\n",
        "        self.victim = person\n",
        "      else:\n",
        "        person = self.victim\n",
        "    elif role == 'm':\n",
        "      if self.murderer == '':\n",
        "        self.murderer = person\n",
        "      else:\n",
        "        person = self.murderer\n",
        "    \n",
        "    if person in self.rem_people:\n",
        "      self.rem_people.pop(self.rem_people.index(person))\n",
        "    return person\n",
        "\n",
        "  def weapon(self, role):\n",
        "    weapon_ = rand.choice(self.weapons)\n",
        "    if role == 'm':\n",
        "      if self.weapon_m == '':\n",
        "        self.weapon_m = weapon_\n",
        "      else:\n",
        "        weapon_ = self.weapon_m\n",
        "    else:\n",
        "      while weapon_ == self.weapon_m:\n",
        "        weapon_ = rand.choice(self.weapons)\n",
        "    return weapon_\n",
        "    \n",
        "  def motive(self, role):\n",
        "    motive_ = rand.choice(self.motives)\n",
        "    '''\n",
        "   \n",
        "    '''\n",
        "    return motive_\n",
        "\n",
        "  def motive_target(self, name, role, motive_):\n",
        "    target = self.victim\n",
        "    if role != 'm':\n",
        "      while target == self.victim or target == name:\n",
        "        target = rand.choice(self.people)\n",
        "    b = motive_.index('$')\n",
        "    motive_ = motive_[:b] + target + motive_[b+1:]\n",
        "    return motive_\n",
        "\n",
        "  def loc(self, role):\n",
        "    loc_ = rand.choice(self.locations)\n",
        "    if role == 'd':\n",
        "      if self.loc_d == '':\n",
        "        self.loc_d = loc_\n",
        "      else:\n",
        "        loc_ = self.loc_d\n",
        "    elif role == 'm':\n",
        "      if self.loc_m == '':\n",
        "        self.loc_m = loc_\n",
        "      else:\n",
        "        loc_ = self.loc_m\n",
        "    else:\n",
        "      while loc_ == self.loc_d or loc_ == self.loc_m:\n",
        "        loc_ = rand.choice(self.locations)\n",
        "    return loc_\n",
        "\n",
        "  def post_to_clues(self, post):\n",
        "    clues = {}\n",
        "\n",
        "    for loc in self.locations:\n",
        "      clues[loc] = []\n",
        "    \n",
        "    clues[self.loc_d].append(\"You find \" + self.victim + \" here, killed by \" + self.weapon_m + \".\")\n",
        "    clues[self.loc_m].append(\"There was a terrible struggle here.\")\n",
        "    for i in post:\n",
        "      name = i[1]\n",
        "      for j in range(int(len(i)/2 - 1)):\n",
        "        k = 2*j + 2\n",
        "        location, clue = i[k], i[k+1]\n",
        "        type_, role, clue = clue[0], clue[1], clue[2:]\n",
        "        if type_ == 'w':\n",
        "          clues[location].append(name + \" had access to \" + clue + \" here.\")\n",
        "        elif type_ == 'l':\n",
        "          clues[location].append(name + \" must have come here from the \" + clue + \".\")\n",
        "        elif type_ == 'm':\n",
        "          motive = self.motive_target(name, role, clue)\n",
        "          clues[location].append(\"You overhear that \" + name + motive + \".\")\n",
        "    return clues"
      ],
      "execution_count": null,
      "outputs": []
    },
    {
      "cell_type": "code",
      "metadata": {
        "id": "M5MNntG-xNge"
      },
      "source": [
        "m = MurderMystery()\n"
      ],
      "execution_count": null,
      "outputs": []
    },
    {
      "cell_type": "code",
      "metadata": {
        "colab": {
          "base_uri": "https://localhost:8080/"
        },
        "id": "luei0Gz9f74Z",
        "outputId": "b0ff2cb2-dc07-456b-b9a3-5d22c7b50fa0"
      },
      "source": [
        "# [\"Kitchen\", \"Hall\", \"Billiards Room\", \"Ballroom\", \"Conservatory\", \"Study\", \"Lounge\", \"Library\", \"Dining Room\"]\n",
        "print(m.clues['Kitchen'])"
      ],
      "execution_count": null,
      "outputs": [
        {
          "output_type": "stream",
          "text": [
            "['You find Abby here, killed by a pipe.', 'Elizabeth must have come here from the Study.', 'You overhear that Ben was recently insulted by Elizabeth.', 'Chuck had access to a knife here.']\n"
          ],
          "name": "stdout"
        }
      ]
    },
    {
      "cell_type": "code",
      "metadata": {
        "colab": {
          "base_uri": "https://localhost:8080/",
          "height": 34
        },
        "id": "-Lj2eOoEbDQq",
        "outputId": "99f76e85-f388-4584-86d0-d4fc92801df0"
      },
      "source": [
        "#m.murderer"
      ],
      "execution_count": null,
      "outputs": [
        {
          "output_type": "execute_result",
          "data": {
            "application/vnd.google.colaboratory.intrinsic+json": {
              "type": "string"
            },
            "text/plain": [
              "'Elizabeth'"
            ]
          },
          "metadata": {
            "tags": []
          },
          "execution_count": 268
        }
      ]
    }
  ]
}